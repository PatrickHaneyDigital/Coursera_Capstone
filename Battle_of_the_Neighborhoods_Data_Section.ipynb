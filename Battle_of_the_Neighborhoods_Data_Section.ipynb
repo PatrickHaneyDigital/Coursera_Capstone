{
 "cells": [
  {
   "cell_type": "markdown",
   "metadata": {},
   "source": [
    "<h2>Data Used</h2>"
   ]
  },
  {
   "cell_type": "markdown",
   "metadata": {},
   "source": [
    "The data for this project will be derived from Geopy, a popular Python Geography library, along with the FourSquare API's exploration endpoint, and a list of Phoenix neighborhoods from Wikipedia. This data will consist of the coordinates and names of all of Phoenix, Arizona's neighborhoods; the coordinates of the center of the city itself; and lists containing details on up to 100 venues per neighborhood.\n",
    "\n",
    "Each venue list will contain the name, coordinates, and venue category for each venue in the list.\n",
    "\n",
    "These data will be merged together in a dataframe, and the venue categories will then be one-hot encoded, averaged to show what categories are most prevalent, and merged in as well. The resulting dataframe will be used for k-means clustering with the scikit-learn library, which will help with identifying the neighborhoods that will be more suitable for the 50+ aged community.\n",
    "\n",
    "Once the data has been clustered, each of the clusters will be assigned a name that denotes the focus of the neighborhoods, and the clusters that are most friendly for the 50+ crowd will be flagged.\n"
   ]
  },
  {
   "cell_type": "markdown",
   "metadata": {},
   "source": [
    "<h3>Example of Neighborhood data fetched from geopy</h3>"
   ]
  },
  {
   "cell_type": "code",
   "execution_count": 1,
   "metadata": {},
   "outputs": [],
   "source": [
    "!conda install -c conda-forge geopy --yes"
   ]
  },
  {
   "cell_type": "code",
   "execution_count": 19,
   "metadata": {},
   "outputs": [
    {
     "data": {
      "text/plain": [
       "[{'Neighborhood': 'Woodlea Historic District',\n",
       "  'longitude': -112.0876844213773,\n",
       "  'latitude': 33.4971393}]"
      ]
     },
     "execution_count": 19,
     "metadata": {},
     "output_type": "execute_result"
    }
   ],
   "source": [
    "from geopy.geocoders import Nominatim\n",
    "neighborhood = 'Woodlea Historic District'\n",
    "geolocator = Nominatim(user_agent=\"pheonix_explorer\")\n",
    "location = geolocator.geocode(neighborhood,', Phoenix')\n",
    "coords = [{'Neighborhood':neighborhood, 'longitude':location.longitude, 'latitude':location.latitude}]\n",
    "coords"
   ]
  }
 ],
 "metadata": {
  "kernelspec": {
   "display_name": "Python",
   "language": "python",
   "name": "conda-env-python-py"
  },
  "language_info": {
   "codemirror_mode": {
    "name": "ipython",
    "version": 3
   },
   "file_extension": ".py",
   "mimetype": "text/x-python",
   "name": "python",
   "nbconvert_exporter": "python",
   "pygments_lexer": "ipython3",
   "version": "3.6.10"
  }
 },
 "nbformat": 4,
 "nbformat_minor": 4
}

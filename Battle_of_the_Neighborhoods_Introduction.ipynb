{
 "cells": [
  {
   "cell_type": "markdown",
   "metadata": {},
   "source": [
    "<h1>Battle of the Neighborhoods - Coursera Capstone Project</h1>\n",
    "<h2>Introduction/Business Problem</h2>"
   ]
  },
  {
   "cell_type": "markdown",
   "metadata": {},
   "source": [
    "ACME Realty, a nation-wide realty group, is interested in expanding their services to include Downsizing Assistance. This new service will work to match adults who are 50+ years old with living spaces that are in very accessible neighborhoods that have services and amenities such as hospitals / medical practices, walking trails, parks, and grocery stores. ACME Realty would like to pilot their service in Phoenix, Arizona, to gauge if it is a viable idea that can be expanded to other cities. They want to build a deep understanding of what the neighborhoods in Phoenix, Arizona offer so that they can find the optimal neighborhoods for their clients to buy new living spaces in. ACME Realty has enlisted your services to help them find the best neighborhoods in Phoenix for them to target during the pilot test."
   ]
  },
  {
   "cell_type": "code",
   "execution_count": null,
   "metadata": {},
   "outputs": [],
   "source": []
  }
 ],
 "metadata": {
  "kernelspec": {
   "display_name": "Python",
   "language": "python",
   "name": "conda-env-python-py"
  },
  "language_info": {
   "codemirror_mode": {
    "name": "ipython",
    "version": 3
   },
   "file_extension": ".py",
   "mimetype": "text/x-python",
   "name": "python",
   "nbconvert_exporter": "python",
   "pygments_lexer": "ipython3",
   "version": "3.6.10"
  }
 },
 "nbformat": 4,
 "nbformat_minor": 4
}
